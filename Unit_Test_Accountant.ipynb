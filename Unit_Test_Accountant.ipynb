{
 "cells": [
  {
   "cell_type": "code",
   "execution_count": 3,
   "metadata": {},
   "outputs": [
    {
     "name": "stderr",
     "output_type": "stream",
     "text": [
      "......\n",
      "----------------------------------------------------------------------\n",
      "Ran 6 tests in 0.007s\n",
      "\n",
      "OK\n"
     ]
    },
    {
     "data": {
      "text/plain": [
       "<unittest.main.TestProgram at 0x195d32488d0>"
      ]
     },
     "execution_count": 3,
     "metadata": {},
     "output_type": "execute_result"
    }
   ],
   "source": [
    "import unittest\n",
    "from account import Accountant\n",
    "\n",
    "class TestAccount(unittest.TestCase):\n",
    "    \n",
    "    def setUp(self):\n",
    "        self.acc = Accountant()\n",
    "    \n",
    "    def test_initial_balance(self):\n",
    "        self.assertEqual(self.acc.balance,0)\n",
    "        \n",
    "        acc= Accountant(100)\n",
    "        self.assertEqual(acc.balance,100)\n",
    "    \n",
    "    def test_deposit(self):\n",
    "        #testing single deposit\n",
    "        self.acc.deposit(100)\n",
    "        self.assertEqual(self.acc.balance,100)\n",
    "        \n",
    "        #testing single deposit\n",
    "        self.acc.deposit(100)\n",
    "        self.acc.deposit(100)\n",
    "        self.assertEqual(self.acc.balance,300)\n",
    "   \n",
    "    def test_withdraw(self):\n",
    "        #testing single deposit\n",
    "        self.acc.deposit(1000)\n",
    "        \n",
    "        self.acc.withdraw(100)\n",
    "        self.acc.withdraw(100) \n",
    "        self.assertEqual(self.acc.balance,800)\n",
    "        \n",
    "    def test_neg_bal(self):\n",
    "        self.acc.deposit(1000)\n",
    "        \n",
    "        self.acc.withdraw(1001)\n",
    "        self.assertRaises(ValueError,self.acc.withdraw,-1001)\n",
    "        #testing for negative values */\n",
    "    def test_values(self):\n",
    "        self.assertRaises(ValueError,self.acc.deposit,-100)\n",
    "        \n",
    "    def test_types(self):\n",
    "        self.assertRaises(TypeError,self.acc.deposit,'abc')\n",
    "        self.assertRaises(TypeError,self.acc.deposit, 3+4j)\n",
    "\n",
    "        \n",
    "unittest.main(argv=['first-arg-is-ignored'], exit=False)"
   ]
  },
  {
   "cell_type": "code",
   "execution_count": null,
   "metadata": {},
   "outputs": [],
   "source": []
  },
  {
   "cell_type": "code",
   "execution_count": null,
   "metadata": {},
   "outputs": [],
   "source": []
  }
 ],
 "metadata": {
  "kernelspec": {
   "display_name": "Python 3",
   "language": "python",
   "name": "python3"
  },
  "language_info": {
   "codemirror_mode": {
    "name": "ipython",
    "version": 3
   },
   "file_extension": ".py",
   "mimetype": "text/x-python",
   "name": "python",
   "nbconvert_exporter": "python",
   "pygments_lexer": "ipython3",
   "version": "3.7.3"
  }
 },
 "nbformat": 4,
 "nbformat_minor": 2
}
