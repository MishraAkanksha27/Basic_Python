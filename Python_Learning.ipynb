{
 "cells": [
  {
   "cell_type": "markdown",
   "metadata": {},
   "source": [
    "### Learning Basic Python"
   ]
  },
  {
   "cell_type": "code",
   "execution_count": 40,
   "metadata": {},
   "outputs": [
    {
     "name": "stdout",
     "output_type": "stream",
     "text": [
      "Full name is:  Akanksha Mishra\n"
     ]
    }
   ],
   "source": [
    "first = 'Akanksha'\n",
    "last = 'Mishra'\n",
    "\n",
    "print(\"Full name is: \", first + \" \" + last)"
   ]
  },
  {
   "cell_type": "markdown",
   "metadata": {},
   "source": [
    "####    List:\n",
    "    \n",
    "    Stores series of items in a particular order (mutable, items can be of different types)|\n",
    "    defined within []"
   ]
  },
  {
   "cell_type": "code",
   "execution_count": 41,
   "metadata": {},
   "outputs": [],
   "source": [
    "Name = ['Akanksha', 'Deepak', 'Mishra', 'Gaur']"
   ]
  },
  {
   "cell_type": "code",
   "execution_count": 42,
   "metadata": {},
   "outputs": [
    {
     "data": {
      "text/plain": [
       "'Akanksha'"
      ]
     },
     "execution_count": 42,
     "metadata": {},
     "output_type": "execute_result"
    }
   ],
   "source": [
    "Name[0]"
   ]
  },
  {
   "cell_type": "code",
   "execution_count": 43,
   "metadata": {},
   "outputs": [
    {
     "data": {
      "text/plain": [
       "'Akanksha'"
      ]
     },
     "execution_count": 43,
     "metadata": {},
     "output_type": "execute_result"
    }
   ],
   "source": [
    "first_name = Name[0]\n",
    "first_name"
   ]
  },
  {
   "cell_type": "code",
   "execution_count": 44,
   "metadata": {},
   "outputs": [
    {
     "data": {
      "text/plain": [
       "'Mishra'"
      ]
     },
     "execution_count": 44,
     "metadata": {},
     "output_type": "execute_result"
    }
   ],
   "source": [
    "last_name= Name[-2]\n",
    "last_name"
   ]
  },
  {
   "cell_type": "code",
   "execution_count": 45,
   "metadata": {},
   "outputs": [
    {
     "name": "stdout",
     "output_type": "stream",
     "text": [
      "Akanksha\n",
      "Deepak\n",
      "Mishra\n",
      "Gaur\n"
     ]
    }
   ],
   "source": [
    "for i in Name:\n",
    "    print(i)"
   ]
  },
  {
   "cell_type": "code",
   "execution_count": 46,
   "metadata": {},
   "outputs": [
    {
     "data": {
      "text/plain": [
       "['Akanksha', 'Deepak', 'Mishra', 'Gaur', 'Bittu', 'Deepu']"
      ]
     },
     "execution_count": 46,
     "metadata": {},
     "output_type": "execute_result"
    }
   ],
   "source": [
    "Name.append(\"Bittu\")\n",
    "Name.append(\"Deepu\")\n",
    "Name"
   ]
  },
  {
   "cell_type": "code",
   "execution_count": 47,
   "metadata": {},
   "outputs": [
    {
     "data": {
      "text/plain": [
       "[1, 4, 9, 16, 25, 36, 49, 64, 81, 100]"
      ]
     },
     "execution_count": 47,
     "metadata": {},
     "output_type": "execute_result"
    }
   ],
   "source": [
    "square= []\n",
    "for i in range(1,11):\n",
    "    square.append(i**2)\n",
    "square"
   ]
  },
  {
   "cell_type": "code",
   "execution_count": 48,
   "metadata": {},
   "outputs": [
    {
     "data": {
      "text/plain": [
       "[1, 4, 9, 16, 25, 36, 49, 64, 81, 100]"
      ]
     },
     "execution_count": 48,
     "metadata": {},
     "output_type": "execute_result"
    }
   ],
   "source": [
    "sq = [i**2 for i in range(1,11)]\n",
    "sq"
   ]
  },
  {
   "cell_type": "code",
   "execution_count": 49,
   "metadata": {},
   "outputs": [
    {
     "data": {
      "text/plain": [
       "[1, 4, 9]"
      ]
     },
     "execution_count": 49,
     "metadata": {},
     "output_type": "execute_result"
    }
   ],
   "source": [
    "sq_three = sq[:3]\n",
    "sq_three"
   ]
  },
  {
   "cell_type": "code",
   "execution_count": 50,
   "metadata": {},
   "outputs": [
    {
     "data": {
      "text/plain": [
       "[64, 81, 100]"
      ]
     },
     "execution_count": 50,
     "metadata": {},
     "output_type": "execute_result"
    }
   ],
   "source": [
    "sq_last_three = sq[-3:]\n",
    "sq_last_three"
   ]
  },
  {
   "cell_type": "code",
   "execution_count": 51,
   "metadata": {},
   "outputs": [
    {
     "data": {
      "text/plain": [
       "[1, 4, 9, 16, 25, 36, 49, 64, 81, 100]"
      ]
     },
     "execution_count": 51,
     "metadata": {},
     "output_type": "execute_result"
    }
   ],
   "source": [
    "copy_square =square[:]\n",
    "copy_square"
   ]
  },
  {
   "cell_type": "code",
   "execution_count": 52,
   "metadata": {},
   "outputs": [
    {
     "data": {
      "text/plain": [
       "['akanksha', 27, 'deepak', 28]"
      ]
     },
     "execution_count": 52,
     "metadata": {},
     "output_type": "execute_result"
    }
   ],
   "source": [
    "mixed = [\"akanksha\", 27, \"deepak\", 28]\n",
    "mixed"
   ]
  },
  {
   "cell_type": "code",
   "execution_count": 53,
   "metadata": {},
   "outputs": [
    {
     "name": "stdout",
     "output_type": "stream",
     "text": [
      "deepak 28\n"
     ]
    }
   ],
   "source": [
    "print(mixed[2],mixed[3])"
   ]
  },
  {
   "cell_type": "markdown",
   "metadata": {},
   "source": [
    "####    Tuples:\n",
    "\n",
    "    Similar to list but immutable\n",
    "    defined within ()"
   ]
  },
  {
   "cell_type": "code",
   "execution_count": 54,
   "metadata": {},
   "outputs": [
    {
     "data": {
      "text/plain": [
       "(20, 30)"
      ]
     },
     "execution_count": 54,
     "metadata": {},
     "output_type": "execute_result"
    }
   ],
   "source": [
    "dim = (20,30)\n",
    "dim"
   ]
  },
  {
   "cell_type": "markdown",
   "metadata": {},
   "source": [
    "#### Conditional Statements"
   ]
  },
  {
   "cell_type": "code",
   "execution_count": 55,
   "metadata": {},
   "outputs": [
    {
     "name": "stdout",
     "output_type": "stream",
     "text": [
      "Yasss\n"
     ]
    }
   ],
   "source": [
    "if 'akanksha' in mixed:\n",
    "    print('Yasss')"
   ]
  },
  {
   "cell_type": "code",
   "execution_count": 56,
   "metadata": {},
   "outputs": [
    {
     "name": "stdout",
     "output_type": "stream",
     "text": [
      "nopise\n"
     ]
    }
   ],
   "source": [
    "if 'akaha' in mixed:\n",
    "    print('Yasss')\n",
    "else:\n",
    "    print('nopise')"
   ]
  },
  {
   "cell_type": "markdown",
   "metadata": {},
   "source": [
    "#### Taking input from the user "
   ]
  },
  {
   "cell_type": "code",
   "execution_count": 189,
   "metadata": {},
   "outputs": [
    {
     "name": "stdout",
     "output_type": "stream",
     "text": [
      "Enter your age : 20\n",
      "You are an adult now\n"
     ]
    }
   ],
   "source": [
    "age = int(input(\"Enter your age : \"))\n",
    "if age < 10:\n",
    "    print(\"You are a kid\")\n",
    "elif age >= 10 and age <20:\n",
    "    print(\"You are a teenager\")\n",
    "else:\n",
    "    print(\"You are an adult now\")"
   ]
  },
  {
   "cell_type": "markdown",
   "metadata": {},
   "source": [
    "#### Dictionary:\n",
    "    \n",
    "    Stores data in the form of key value pairs"
   ]
  },
  {
   "cell_type": "code",
   "execution_count": 58,
   "metadata": {},
   "outputs": [
    {
     "data": {
      "text/plain": [
       "{'apple': 5.49, 'banana': 0.99, 'Oranges': 5.99}"
      ]
     },
     "execution_count": 58,
     "metadata": {},
     "output_type": "execute_result"
    }
   ],
   "source": [
    "fruit_prices = {'apple': 5.49,'banana': 0.99,'Oranges': 5.99}\n",
    "fruit_prices"
   ]
  },
  {
   "cell_type": "code",
   "execution_count": 59,
   "metadata": {},
   "outputs": [
    {
     "name": "stdout",
     "output_type": "stream",
     "text": [
      "Fruit apple\n",
      "Price: 5.49\n",
      "Fruit banana\n",
      "Price: 0.99\n",
      "Fruit Oranges\n",
      "Price: 5.99\n"
     ]
    }
   ],
   "source": [
    "for i in fruit_prices:\n",
    "    print(\"Fruit\", i)\n",
    "    print(\"Price:\", fruit_prices[i])"
   ]
  },
  {
   "cell_type": "code",
   "execution_count": 60,
   "metadata": {},
   "outputs": [
    {
     "data": {
      "text/plain": [
       "5.49"
      ]
     },
     "execution_count": 60,
     "metadata": {},
     "output_type": "execute_result"
    }
   ],
   "source": [
    "fruit_prices['apple']"
   ]
  },
  {
   "cell_type": "code",
   "execution_count": 61,
   "metadata": {},
   "outputs": [
    {
     "name": "stdout",
     "output_type": "stream",
     "text": [
      "Fruit apple\n",
      "Fruit banana\n",
      "Fruit Oranges\n"
     ]
    }
   ],
   "source": [
    "for i in fruit_prices.keys():\n",
    "    print(\"Fruit\", i)"
   ]
  },
  {
   "cell_type": "code",
   "execution_count": 62,
   "metadata": {},
   "outputs": [
    {
     "name": "stdout",
     "output_type": "stream",
     "text": [
      "Price 5.49\n",
      "Price 0.99\n",
      "Price 5.99\n"
     ]
    }
   ],
   "source": [
    "for i in fruit_prices.values():\n",
    "    print(\"Price\", i)"
   ]
  },
  {
   "cell_type": "markdown",
   "metadata": {},
   "source": [
    "#### While loop"
   ]
  },
  {
   "cell_type": "code",
   "execution_count": 63,
   "metadata": {},
   "outputs": [
    {
     "name": "stdout",
     "output_type": "stream",
     "text": [
      "0 1 2 3 4 5 6 7 8 9 "
     ]
    }
   ],
   "source": [
    "i_int = 0\n",
    "while (i_int<10):\n",
    "    print(i_int, end=\" \")   # to print next value on the same line\n",
    "    i_int = i_int+1"
   ]
  },
  {
   "cell_type": "code",
   "execution_count": 64,
   "metadata": {},
   "outputs": [
    {
     "name": "stdout",
     "output_type": "stream",
     "text": [
      "Whats your message?   \n",
      "\n",
      "Whats your message?   \n",
      "\n",
      "Whats your message?   \n",
      "\n",
      "Whats your message?   \n",
      "\n",
      "Whats your message?   \n",
      "\n",
      "Whats your message?   \n",
      "\n",
      "Whats your message?   \n",
      "\n",
      "Whats your message?   \n",
      "\n",
      "Whats your message?   23\n",
      "23\n",
      "Whats your message?   sd\n",
      "sd\n",
      "Whats your message?   1uit\n",
      "1uit\n",
      "Whats your message?   quit\n",
      "quit\n"
     ]
    }
   ],
   "source": [
    "#Letting user handle when to stop loop\n",
    "\n",
    "msg = ''\n",
    "while msg != 'quit':\n",
    "    msg = input(\"Whats your message?   \")\n",
    "    print(msg)"
   ]
  },
  {
   "cell_type": "markdown",
   "metadata": {},
   "source": [
    "##### Functions:\n",
    "    \n",
    "    Named block of code, designed to do a specific job\n",
    "    information passed into a function : argument\n",
    "    information received from function : parameter"
   ]
  },
  {
   "cell_type": "code",
   "execution_count": 65,
   "metadata": {},
   "outputs": [],
   "source": [
    "def hello_user(uname = 'Default User'):\n",
    "    print(\"Hello\", uname)"
   ]
  },
  {
   "cell_type": "code",
   "execution_count": 66,
   "metadata": {},
   "outputs": [
    {
     "name": "stdout",
     "output_type": "stream",
     "text": [
      "Hello Akanksha\n"
     ]
    }
   ],
   "source": [
    "hello_user(\"Akanksha\")"
   ]
  },
  {
   "cell_type": "code",
   "execution_count": 67,
   "metadata": {},
   "outputs": [
    {
     "name": "stdout",
     "output_type": "stream",
     "text": [
      "Hello Default User\n"
     ]
    }
   ],
   "source": [
    "hello_user()"
   ]
  },
  {
   "cell_type": "code",
   "execution_count": 68,
   "metadata": {},
   "outputs": [],
   "source": [
    "def addi(x,y):\n",
    "    return x+y"
   ]
  },
  {
   "cell_type": "code",
   "execution_count": 69,
   "metadata": {},
   "outputs": [
    {
     "data": {
      "text/plain": [
       "27"
      ]
     },
     "execution_count": 69,
     "metadata": {},
     "output_type": "execute_result"
    }
   ],
   "source": [
    "addi(9,18)"
   ]
  },
  {
   "cell_type": "code",
   "execution_count": 8,
   "metadata": {},
   "outputs": [],
   "source": [
    "#Using none to make an argument optional\n",
    "\n",
    "def exp(x,y=None):\n",
    "    if y:\n",
    "        return x**y\n",
    "    else:\n",
    "        return x**2\n"
   ]
  },
  {
   "cell_type": "code",
   "execution_count": 10,
   "metadata": {},
   "outputs": [
    {
     "name": "stdout",
     "output_type": "stream",
     "text": [
      "5 to the power 3 is :  125\n",
      "5 to the power 2 (using default value) is :  25\n"
     ]
    }
   ],
   "source": [
    "print(\"5 to the power 3 is : \",exp(5,3))\n",
    "print(\"5 to the power 2 (using default value) is : \",exp(5))"
   ]
  },
  {
   "cell_type": "code",
   "execution_count": 15,
   "metadata": {},
   "outputs": [],
   "source": [
    "#Returning a titled single value using functions\n",
    "\n",
    "def person(first, last):\n",
    "    name  = first + ' ' + last\n",
    "    return name.title()\n",
    "\n"
   ]
  },
  {
   "cell_type": "code",
   "execution_count": 16,
   "metadata": {},
   "outputs": [
    {
     "data": {
      "text/plain": [
       "'Akanksha Mishra'"
      ]
     },
     "execution_count": 16,
     "metadata": {},
     "output_type": "execute_result"
    }
   ],
   "source": [
    "person('akanksha','mishra')"
   ]
  },
  {
   "cell_type": "code",
   "execution_count": 18,
   "metadata": {},
   "outputs": [
    {
     "name": "stdout",
     "output_type": "stream",
     "text": [
      "{'First_name': 'Deepak', 'Last_name': 'Gaur'}\n"
     ]
    }
   ],
   "source": [
    "#Returning a dictionary using functions\n",
    "\n",
    "def build_person(first, last):\n",
    "    person = {'First_name' : first , 'Last_name' : last}\n",
    "    return person\n",
    "\n",
    "name = build_person('Deepak','Gaur')\n",
    "print(name)\n"
   ]
  },
  {
   "cell_type": "code",
   "execution_count": 19,
   "metadata": {},
   "outputs": [
    {
     "name": "stdout",
     "output_type": "stream",
     "text": [
      "{'First_name': 'Bittu', 'Last_name': 'Mishra', 'Age': None}\n",
      "{'First_name': 'Akanksha', 'Last_name': 'Mishra', 'Age': 27}\n"
     ]
    }
   ],
   "source": [
    "#Returning a dictionary using functions (with optional values)\n",
    "\n",
    "def build_person(first, last, age=None):\n",
    "    person = {'First_name' : first , 'Last_name' : last, 'Age' : age}\n",
    "    return person\n",
    "\n",
    "name = build_person('Bittu','Mishra')\n",
    "print(name)\n",
    "\n",
    "name = build_person('Akanksha','Mishra',27)\n",
    "print(name)"
   ]
  },
  {
   "cell_type": "markdown",
   "metadata": {},
   "source": [
    "#### Classes:\n",
    "    defines the behaviour of an object and the kind of information an object can store\n",
    "    function of a class = methods\n",
    "    information stored in form of = attributes"
   ]
  },
  {
   "cell_type": "code",
   "execution_count": 70,
   "metadata": {},
   "outputs": [],
   "source": [
    "class math():\n",
    "    \n",
    "    def __init__(self, x, y):\n",
    "        self.x = x\n",
    "        self.y = y \n",
    "        \n",
    "    def addi(self):\n",
    "        return self.x+self.y\n",
    "\n",
    "    def subs(self):\n",
    "        return self.x-self.y\n",
    "\n",
    "    def multi(self):\n",
    "        return self.x*self.y\n",
    "\n",
    "    def div(self):\n",
    "        return self.x/self.y\n",
    "\n",
    "    def exp(self):\n",
    "        return self.x**self.y\n"
   ]
  },
  {
   "cell_type": "code",
   "execution_count": 71,
   "metadata": {},
   "outputs": [
    {
     "name": "stdout",
     "output_type": "stream",
     "text": [
      "Addition       : 12\n",
      "Substraction   : 8\n",
      "Multiplication : 20\n",
      "Divison        : 5.0\n",
      "Exponent       : 100\n"
     ]
    }
   ],
   "source": [
    "my_math = math(10,2)\n",
    "print(\"Addition       :\", my_math.addi())\n",
    "print(\"Substraction   :\", my_math.subs())\n",
    "print(\"Multiplication :\", my_math.multi())\n",
    "print(\"Divison        :\", my_math.div())\n",
    "print(\"Exponent       :\", my_math.exp())"
   ]
  },
  {
   "cell_type": "code",
   "execution_count": 72,
   "metadata": {},
   "outputs": [
    {
     "name": "stdout",
     "output_type": "stream",
     "text": [
      "Hello my name is Akanksha Mishra and my age is 27\n"
     ]
    }
   ],
   "source": [
    "class Person:\n",
    "    def __init__(self, name, age):\n",
    "        self.name = name\n",
    "        self.age = age\n",
    "\n",
    "    def myfunc(self):\n",
    "        print(\"Hello my name is \" + self.name + \" and my age is \"+str(self.age))\n",
    "\n",
    "p1 = Person(\"Akanksha Mishra\", 27)\n",
    "p1.myfunc()"
   ]
  },
  {
   "cell_type": "code",
   "execution_count": 73,
   "metadata": {},
   "outputs": [],
   "source": [
    "class Chef:\n",
    "    def make_salad(self):\n",
    "        print(\"Chef makes Salad\")\n",
    "        \n",
    "    def make_chicken(self):\n",
    "        print(\"Chef makes Chicken\")\n",
    "        \n",
    "    def make_vegie(self):\n",
    "        print(\"Chef makes Vegie\")\n",
    "        \n",
    "    def make_special_dish(self):\n",
    "        print(\"Chef makes BBQ ribs\")"
   ]
  },
  {
   "cell_type": "code",
   "execution_count": 74,
   "metadata": {},
   "outputs": [
    {
     "name": "stdout",
     "output_type": "stream",
     "text": [
      "Chef makes Chicken\n",
      "Chef makes BBQ ribs\n"
     ]
    }
   ],
   "source": [
    "#import Chef\n",
    "\n",
    "myChef = Chef()\n",
    "myChef.make_chicken()\n",
    "myChef.make_special_dish()"
   ]
  },
  {
   "cell_type": "code",
   "execution_count": 75,
   "metadata": {},
   "outputs": [],
   "source": [
    "class ChineseChef(Chef):\n",
    "    def make_friedRice(self):\n",
    "        print(\"Chef makes fried rice\")\n",
    "    def make_special_dish(self):\n",
    "        print(\"Chef makes Orange Chicken\")"
   ]
  },
  {
   "cell_type": "code",
   "execution_count": 76,
   "metadata": {},
   "outputs": [
    {
     "name": "stdout",
     "output_type": "stream",
     "text": [
      "Chef makes Chicken\n",
      "Chef makes fried rice\n",
      "Chef makes Orange Chicken\n"
     ]
    }
   ],
   "source": [
    "myChiChef = ChineseChef()\n",
    "myChiChef.make_chicken()\n",
    "myChiChef.make_friedRice()\n",
    "myChiChef.make_special_dish()"
   ]
  },
  {
   "cell_type": "code",
   "execution_count": 77,
   "metadata": {},
   "outputs": [
    {
     "name": "stdout",
     "output_type": "stream",
     "text": [
      "Hello\n",
      "\n",
      "I am Akanksha Mishra\n",
      "\n",
      "I am the most unlovable person in the universe\n",
      "\n",
      "I am irritating, clingy and psycho character\n",
      "\n",
      "No one can stay happy with me\n",
      "\n",
      "No once can love me for more than 2 days\n",
      "\n",
      "\n",
      "\n",
      "I love him I respect him I always try to do things that will make him happy, but he hate me\n"
     ]
    }
   ],
   "source": [
    "filename = 'test.txt'\n",
    "\n",
    "with open(filename) as file_object:\n",
    "    lines = file_object.readlines()\n",
    "    \n",
    "for line in lines:\n",
    "    print(line)"
   ]
  },
  {
   "cell_type": "code",
   "execution_count": 78,
   "metadata": {},
   "outputs": [],
   "source": [
    "# writing to a file\n",
    "test1 = 'test1.txt'\n",
    "with open(test1, 'w') as file_object:\n",
    "    lines = file_object.write(\"I loved to love myself\")\n"
   ]
  },
  {
   "cell_type": "code",
   "execution_count": 79,
   "metadata": {},
   "outputs": [],
   "source": [
    "#appending to a file\n",
    "test = 'test.txt'\n",
    "with open(test, 'a') as file_object:\n",
    "    lines = file_object.write(\"I love him I respect him I always try to do things that will make him happy, but he hates me\")"
   ]
  },
  {
   "cell_type": "markdown",
   "metadata": {},
   "source": [
    "####  Exception Handling/Catching"
   ]
  },
  {
   "cell_type": "code",
   "execution_count": 80,
   "metadata": {},
   "outputs": [
    {
     "name": "stdout",
     "output_type": "stream",
     "text": [
      "Please enter a number: 23\n"
     ]
    }
   ],
   "source": [
    " while True:\n",
    "        try:\n",
    "            x = int(input(\"Please enter a number: \"))\n",
    "            break\n",
    "        except ValueError:\n",
    "            print(\"Oops!  That was no valid number.  Try again...\")"
   ]
  },
  {
   "cell_type": "code",
   "execution_count": 33,
   "metadata": {},
   "outputs": [
    {
     "name": "stdout",
     "output_type": "stream",
     "text": [
      "You can't divide any number by zero!!\n"
     ]
    }
   ],
   "source": [
    "#Zerodivison exception\n",
    "try:\n",
    "    x= 5/0\n",
    "    print(x)\n",
    "except ZeroDivisionError:\n",
    "    print(\"You can't divide any number by zero!!\")"
   ]
  },
  {
   "cell_type": "code",
   "execution_count": 42,
   "metadata": {},
   "outputs": [
    {
     "name": "stdout",
     "output_type": "stream",
     "text": [
      "Can't find the file on the given location!!!, thry checking the location once again :) \n",
      "\n",
      "file test2.txt.\n"
     ]
    }
   ],
   "source": [
    "# catching file not found exception\n",
    "\n",
    "f_name = 'test2.txt'\n",
    "try:\n",
    "    with open(f_name) as f_obj:\n",
    "        lines = f_obj.readlines()\n",
    "        print(lines)\n",
    "except FileNotFoundError:\n",
    "    msg = \"Can't find the file on the given location!!!, thry checking the location once again :)\"\n",
    "    msg1 = 'file {0}.'.format(f_name)\n",
    "    print(msg,\"\\n\")\n",
    "    print(msg1)\n"
   ]
  },
  {
   "cell_type": "code",
   "execution_count": 32,
   "metadata": {},
   "outputs": [
    {
     "data": {
      "text/plain": [
       "['Akanksha', 'Deepak', 'Mishra', 'Gaur', 'Bitti']"
      ]
     },
     "execution_count": 32,
     "metadata": {},
     "output_type": "execute_result"
    }
   ],
   "source": [
    "idiotsName = ['Akanksha', 'Deepak', 'Mishra', 'Gaur' , 'Bitti']\n",
    "idiotsName"
   ]
  },
  {
   "cell_type": "code",
   "execution_count": 115,
   "metadata": {},
   "outputs": [
    {
     "data": {
      "text/plain": [
       "['Akanksha', 'Deepak', 'Mishra', 'Gaur', 'Bittu']"
      ]
     },
     "execution_count": 115,
     "metadata": {},
     "output_type": "execute_result"
    }
   ],
   "source": [
    "idiotsName[4]='Bittu'\n",
    "idiotsName"
   ]
  },
  {
   "cell_type": "code",
   "execution_count": 116,
   "metadata": {},
   "outputs": [
    {
     "data": {
      "text/plain": [
       "['Akanksha', 'Deepak', 'Mishra', 'Gaur', 'Bittu', 'Deepu']"
      ]
     },
     "execution_count": 116,
     "metadata": {},
     "output_type": "execute_result"
    }
   ],
   "source": [
    "idiotsName.append('Deepu')\n",
    "idiotsName"
   ]
  },
  {
   "cell_type": "code",
   "execution_count": 99,
   "metadata": {},
   "outputs": [],
   "source": [
    "del idiotsName[-1]"
   ]
  },
  {
   "cell_type": "code",
   "execution_count": 100,
   "metadata": {},
   "outputs": [
    {
     "data": {
      "text/plain": [
       "['Akanksha', 'Deepak', 'Mishra', 'Gaur', 'Bittu', 'Deepu']"
      ]
     },
     "execution_count": 100,
     "metadata": {},
     "output_type": "execute_result"
    }
   ],
   "source": [
    "idiotsName"
   ]
  },
  {
   "cell_type": "code",
   "execution_count": 102,
   "metadata": {},
   "outputs": [],
   "source": [
    "idiotsName.remove('Deepu')"
   ]
  },
  {
   "cell_type": "code",
   "execution_count": 90,
   "metadata": {},
   "outputs": [],
   "source": [
    "# pop :\n",
    "\n",
    "#returns and deletes the last most element of the list"
   ]
  },
  {
   "cell_type": "code",
   "execution_count": 104,
   "metadata": {},
   "outputs": [
    {
     "data": {
      "text/plain": [
       "'Deepu'"
      ]
     },
     "execution_count": 104,
     "metadata": {},
     "output_type": "execute_result"
    }
   ],
   "source": [
    "recently_added = idiotsName.pop()\n",
    "recently_added"
   ]
  },
  {
   "cell_type": "code",
   "execution_count": 105,
   "metadata": {},
   "outputs": [
    {
     "data": {
      "text/plain": [
       "6"
      ]
     },
     "execution_count": 105,
     "metadata": {},
     "output_type": "execute_result"
    }
   ],
   "source": [
    "len_list = len(idiotsName)\n",
    "len_list"
   ]
  },
  {
   "cell_type": "code",
   "execution_count": 109,
   "metadata": {},
   "outputs": [
    {
     "data": {
      "text/plain": [
       "['Akanksha', 'Bittu', 'Deepak', 'Deepu', 'Gaur', 'Mishra']"
      ]
     },
     "execution_count": 109,
     "metadata": {},
     "output_type": "execute_result"
    }
   ],
   "source": [
    "#Sort : sorts list permanently\n",
    "\n",
    "idiotsName.sort()\n",
    "idiotsName"
   ]
  },
  {
   "cell_type": "code",
   "execution_count": 113,
   "metadata": {},
   "outputs": [
    {
     "data": {
      "text/plain": [
       "['Mishra', 'Gaur', 'Deepu', 'Deepak', 'Bittu', 'Akanksha']"
      ]
     },
     "execution_count": 113,
     "metadata": {},
     "output_type": "execute_result"
    }
   ],
   "source": [
    "Name.sort(reverse = True)\n",
    "Name"
   ]
  },
  {
   "cell_type": "code",
   "execution_count": 119,
   "metadata": {},
   "outputs": [
    {
     "name": "stdout",
     "output_type": "stream",
     "text": [
      "Temperorily sorted list:  ['Akanksha', 'Bittu', 'Deepak', 'Deepu', 'Gaur', 'Mishra']\n",
      "Actual List:  ['Akanksha', 'Deepak', 'Mishra', 'Gaur', 'Bittu', 'Deepu']\n"
     ]
    }
   ],
   "source": [
    "print(\"Temperorily sorted list: \",sorted(idiotsName))\n",
    "print(\"Actual List: \",idiotsName)"
   ]
  },
  {
   "cell_type": "code",
   "execution_count": 124,
   "metadata": {},
   "outputs": [
    {
     "name": "stdout",
     "output_type": "stream",
     "text": [
      "[1, 2, 3, 4, 5, 6, 7, 8, 9, 10, 11, 12, 13, 14, 15, 16, 17, 18, 19, 20, 21, 22, 23, 24, 25, 26, 27, 28, 29, 30, 31, 32, 33, 34, 35, 36, 37, 38, 39, 40, 41, 42, 43, 44, 45, 46, 47, 48, 49, 50, 51, 52, 53, 54, 55, 56, 57, 58, 59, 60, 61, 62, 63, 64, 65, 66, 67, 68, 69, 70, 71, 72, 73, 74, 75, 76, 77, 78, 79, 80, 81, 82, 83, 84, 85, 86, 87, 88, 89, 90, 91, 92, 93, 94, 95, 96, 97, 98, 99, 100] \n",
      "[0, 1, 2, 3, 4, 5, 6, 7, 8, 9, 10, 11, 12, 13, 14, 15, 16, 17, 18, 19, 20, 21, 22, 23, 24, 25, 26, 27, 28, 29, 30, 31, 32, 33, 34, 35, 36, 37, 38, 39, 40, 41, 42, 43, 44, 45, 46, 47, 48, 49, 50, 51, 52, 53, 54, 55, 56, 57, 58, 59, 60, 61, 62, 63, 64, 65, 66, 67, 68, 69, 70, 71, 72, 73, 74, 75, 76, 77, 78, 79, 80, 81, 82, 83, 84, 85, 86, 87, 88, 89, 90, 91, 92, 93, 94, 95, 96, 97, 98, 99, 100] "
     ]
    }
   ],
   "source": [
    "#making list of numbers from 1 to 100\n",
    "\n",
    "num_list = list(range(1,101))\n",
    "print(num_list, end = \" \")\n",
    "print(\"\")\n",
    "\n",
    "num_list_0 = list(range(101))\n",
    "print(num_list_0, end = \" \") "
   ]
  },
  {
   "cell_type": "code",
   "execution_count": 134,
   "metadata": {},
   "outputs": [
    {
     "name": "stdout",
     "output_type": "stream",
     "text": [
      "Minimum age in a list:  10\n",
      "Maximum age in a list:  43\n",
      "Total ages of a list :  173\n",
      "Average age in a list:  24.71\n",
      "Mean age in a list   :  24.71\n",
      "Median age in a list :  23\n"
     ]
    }
   ],
   "source": [
    "import numpy as np\n",
    "import statistics\n",
    "\n",
    "age = [10,20,12,23,43,23,42]\n",
    "print(\"Minimum age in a list: \",min(age))\n",
    "print(\"Maximum age in a list: \",max(age))\n",
    "print(\"Total ages of a list : \",sum(age))\n",
    "print(\"Average age in a list: \",round(sum(age)/len(age),2))\n",
    "print(\"Mean age in a list   : \",round(np.mean(age),2))\n",
    "print(\"Median age in a list : \",statistics.median(age))\n"
   ]
  },
  {
   "cell_type": "code",
   "execution_count": 135,
   "metadata": {},
   "outputs": [
    {
     "data": {
      "text/plain": [
       "['AKANKSHA', 'DEEPAK', 'MISHRA', 'GAUR', 'BITTU', 'DEEPU']"
      ]
     },
     "execution_count": 135,
     "metadata": {},
     "output_type": "execute_result"
    }
   ],
   "source": [
    "upper_idiots = []\n",
    "for i in idiotsName:\n",
    "    upper_idiots.append(i.upper())\n",
    "upper_idiots"
   ]
  },
  {
   "cell_type": "code",
   "execution_count": 140,
   "metadata": {},
   "outputs": [
    {
     "data": {
      "text/plain": [
       "['AKANKSHA', 'DEEPAK', 'MISHRA', 'GAUR', 'BITTU', 'DEEPU']"
      ]
     },
     "execution_count": 140,
     "metadata": {},
     "output_type": "execute_result"
    }
   ],
   "source": [
    "uppe= [i.upper() for i in idiotsName]\n",
    "uppe"
   ]
  },
  {
   "cell_type": "code",
   "execution_count": 143,
   "metadata": {},
   "outputs": [
    {
     "data": {
      "text/plain": [
       "{'apple': 5.49,\n",
       " 'banana': 0.99,\n",
       " 'Oranges': 5.99,\n",
       " 'Watermelon': 4.99,\n",
       " 'Muskmelon': 2.99}"
      ]
     },
     "execution_count": 143,
     "metadata": {},
     "output_type": "execute_result"
    }
   ],
   "source": [
    "# Adding a key value pair to our fruits dictionary\n",
    "\n",
    "fruit_prices['Watermelon'] = 4.99\n",
    "fruit_prices['Muskmelon'] = 2.99\n",
    "fruit_prices"
   ]
  },
  {
   "cell_type": "code",
   "execution_count": 145,
   "metadata": {},
   "outputs": [
    {
     "data": {
      "text/plain": [
       "{'apple': 3.49,\n",
       " 'banana': 0.99,\n",
       " 'Oranges': 5.99,\n",
       " 'Watermelon': 5.49,\n",
       " 'Muskmelon': 2.99}"
      ]
     },
     "execution_count": 145,
     "metadata": {},
     "output_type": "execute_result"
    }
   ],
   "source": [
    "#modifying values in dictionary\n",
    "\n",
    "fruit_prices['Watermelon'] = 5.49\n",
    "fruit_prices['apple'] = 3.49\n",
    "fruit_prices"
   ]
  },
  {
   "cell_type": "code",
   "execution_count": 148,
   "metadata": {},
   "outputs": [
    {
     "name": "stdout",
     "output_type": "stream",
     "text": [
      "apple  is priced  3.49\n",
      "banana  is priced  0.99\n",
      "Oranges  is priced  5.99\n",
      "Watermelon  is priced  5.49\n",
      "Muskmelon  is priced  2.99\n"
     ]
    }
   ],
   "source": [
    "for fname in fruit_prices:\n",
    "    print(fname, \" is priced \", fruit_prices[fname])"
   ]
  },
  {
   "cell_type": "code",
   "execution_count": 149,
   "metadata": {},
   "outputs": [
    {
     "data": {
      "text/plain": [
       "{'apple': 3.49,\n",
       " 'banana': 0.99,\n",
       " 'Oranges': 5.99,\n",
       " 'Watermelon': 5.49,\n",
       " 'Muskmelon': 2.99,\n",
       " 0: 'Apple',\n",
       " 1: 'Banana'}"
      ]
     },
     "execution_count": 149,
     "metadata": {},
     "output_type": "execute_result"
    }
   ],
   "source": [
    "fruit_prices[0] = 'Apple'\n",
    "fruit_prices[1] = 'Banana'"
   ]
  },
  {
   "cell_type": "code",
   "execution_count": 155,
   "metadata": {},
   "outputs": [],
   "source": [
    "del fruit_prices[1]"
   ]
  },
  {
   "cell_type": "code",
   "execution_count": 163,
   "metadata": {},
   "outputs": [
    {
     "data": {
      "text/plain": [
       "{'Oranges': 5.99,\n",
       " 'Watermelon': 5.49,\n",
       " 'Muskmelon': 2.99,\n",
       " 'Apple': 3.49,\n",
       " 'Banana': 0.99}"
      ]
     },
     "execution_count": 163,
     "metadata": {},
     "output_type": "execute_result"
    }
   ],
   "source": [
    "fruit_prices"
   ]
  },
  {
   "cell_type": "code",
   "execution_count": 158,
   "metadata": {},
   "outputs": [],
   "source": [
    "fruit_prices['Apple'] = fruit_prices.pop('apple')"
   ]
  },
  {
   "cell_type": "code",
   "execution_count": 160,
   "metadata": {},
   "outputs": [],
   "source": [
    "fruit_prices['Banana'] = fruit_prices.pop('banana')"
   ]
  },
  {
   "cell_type": "code",
   "execution_count": 169,
   "metadata": {},
   "outputs": [],
   "source": [
    "# Sorting by Values\n",
    "\n",
    "import collections\n",
    "\n",
    "sorted_dict = collections.OrderedDict(fruit_prices.items())"
   ]
  },
  {
   "cell_type": "code",
   "execution_count": 170,
   "metadata": {},
   "outputs": [
    {
     "data": {
      "text/plain": [
       "OrderedDict([('Oranges', 5.99),\n",
       "             ('Watermelon', 5.49),\n",
       "             ('Muskmelon', 2.99),\n",
       "             ('Apple', 3.49),\n",
       "             ('Banana', 0.99)])"
      ]
     },
     "execution_count": 170,
     "metadata": {},
     "output_type": "execute_result"
    }
   ],
   "source": [
    "sorted_dict"
   ]
  },
  {
   "cell_type": "code",
   "execution_count": 171,
   "metadata": {},
   "outputs": [
    {
     "data": {
      "text/plain": [
       "SortedDict({'Apple': 3.49, 'Banana': 0.99, 'Muskmelon': 2.99, 'Oranges': 5.99, 'Watermelon': 5.49})"
      ]
     },
     "execution_count": 171,
     "metadata": {},
     "output_type": "execute_result"
    }
   ],
   "source": [
    "# Sorting by keys\n",
    "\n",
    "from sortedcontainers import SortedDict\n",
    "sort = SortedDict(fruit_prices)\n",
    "sort"
   ]
  },
  {
   "cell_type": "markdown",
   "metadata": {},
   "source": [
    "#### List of Dictinaries"
   ]
  },
  {
   "cell_type": "code",
   "execution_count": 174,
   "metadata": {},
   "outputs": [
    {
     "data": {
      "text/plain": [
       "[{'name': 'Akanksha', 'last': 'Mishra', 'age': 27, 'in_relation': True}]"
      ]
     },
     "execution_count": 174,
     "metadata": {},
     "output_type": "execute_result"
    }
   ],
   "source": [
    "user = []\n",
    "\n",
    "user1 = {\n",
    "    'name': 'Akanksha',\n",
    "    'last': 'Mishra',\n",
    "    'age' : 27,\n",
    "    'in_relation': True\n",
    "}\n",
    "user.append(user1)\n"
   ]
  },
  {
   "cell_type": "code",
   "execution_count": 176,
   "metadata": {},
   "outputs": [
    {
     "data": {
      "text/plain": [
       "[{'name': 'Akanksha', 'last': 'Mishra', 'age': 27, 'in_relation': True},\n",
       " {'name': 'Deepak', 'last': 'Gaur', 'age': 27, 'in_relation': True}]"
      ]
     },
     "execution_count": 176,
     "metadata": {},
     "output_type": "execute_result"
    }
   ],
   "source": [
    "user2 = {\n",
    "    'name': 'Deepak',\n",
    "    'last': 'Gaur',\n",
    "    'age' : 27,\n",
    "    'in_relation': True\n",
    "}\n",
    "user.append(user2)\n",
    "user"
   ]
  },
  {
   "cell_type": "code",
   "execution_count": 177,
   "metadata": {},
   "outputs": [
    {
     "data": {
      "text/plain": [
       "[{'name': 'Akanksha', 'last': 'Mishra', 'age': 27, 'in_relation': True},\n",
       " {'name': 'Deepak', 'last': 'Gaur', 'age': 27, 'in_relation': True},\n",
       " {'name': 'Yash', 'last': 'Varotoria', 'age': 23, 'in_relation': False}]"
      ]
     },
     "execution_count": 177,
     "metadata": {},
     "output_type": "execute_result"
    }
   ],
   "source": [
    "user3 = {\n",
    "    'name': 'Yash',\n",
    "    'last': 'Varotoria',\n",
    "    'age' : 23,\n",
    "    'in_relation': False\n",
    "}\n",
    "user.append(user3)\n",
    "\n",
    "user"
   ]
  },
  {
   "cell_type": "code",
   "execution_count": 179,
   "metadata": {},
   "outputs": [
    {
     "data": {
      "text/plain": [
       "[{'name': 'Akanksha', 'last': 'Mishra', 'age': 27, 'in_relation': True},\n",
       " {'name': 'Deepak', 'last': 'Gaur', 'age': 27, 'in_relation': True},\n",
       " {'name': 'Yash', 'last': 'Varotoria', 'age': 23, 'in_relation': False}]"
      ]
     },
     "execution_count": 179,
     "metadata": {},
     "output_type": "execute_result"
    }
   ],
   "source": [
    "# Another way of deficing list of dictionaries\n",
    "\n",
    "user_details = [\n",
    "    {\n",
    "    'name': 'Akanksha',\n",
    "    'last': 'Mishra',\n",
    "    'age' : 27,\n",
    "    'in_relation': True\n",
    "    }\n",
    "    ,\n",
    "    {\n",
    "    'name': 'Deepak',\n",
    "    'last': 'Gaur',\n",
    "    'age' : 27,\n",
    "    'in_relation': True\n",
    "    }\n",
    "    ,\n",
    "    {\n",
    "    'name': 'Yash',\n",
    "    'last': 'Varotoria',\n",
    "    'age' : 23,\n",
    "    'in_relation': False\n",
    "    }\n",
    "] \n",
    "\n",
    "user_details"
   ]
  },
  {
   "cell_type": "code",
   "execution_count": 182,
   "metadata": {},
   "outputs": [
    {
     "name": "stdout",
     "output_type": "stream",
     "text": [
      "False\n",
      "True\n"
     ]
    }
   ],
   "source": [
    "print('deepak' in idiotsName)\n",
    "print('Deepak' in idiotsName)"
   ]
  },
  {
   "cell_type": "code",
   "execution_count": 188,
   "metadata": {},
   "outputs": [
    {
     "name": "stdout",
     "output_type": "stream",
     "text": [
      "Site =  YouTube : can be used in office system\n"
     ]
    }
   ],
   "source": [
    "banned_sites = ['fb','twitter','myntra','instagram']\n",
    "\n",
    "site = 'YouTube'\n",
    "if site not in banned_sites:\n",
    "    print(\"Site = \", site ,\": can be used in office system\")"
   ]
  },
  {
   "cell_type": "code",
   "execution_count": 4,
   "metadata": {},
   "outputs": [
    {
     "name": "stdout",
     "output_type": "stream",
     "text": [
      "You have no players yet!!!\n"
     ]
    }
   ],
   "source": [
    "players =[]\n",
    "\n",
    "if players:\n",
    "    for i in players:\n",
    "        print(i)\n",
    "else:\n",
    "    print(\"You have no players yet!!!\")"
   ]
  },
  {
   "cell_type": "code",
   "execution_count": 5,
   "metadata": {},
   "outputs": [
    {
     "name": "stdout",
     "output_type": "stream",
     "text": [
      "\n",
      "Enter player name !\n",
      "Enter quit when you are done.\n",
      "Arjita Gupta\n",
      "\n",
      "Enter player name !\n",
      "Enter quit when you are done.\n",
      "Akanksha Mishra\n",
      "\n",
      "Enter player name !\n",
      "Enter quit when you are done.\n",
      "Druthi Shah\n",
      "\n",
      "Enter player name !\n",
      "Enter quit when you are done.\n",
      "Neha Patidhar\n",
      "\n",
      "Enter player name !\n",
      "Enter quit when you are done.\n",
      "Priti R\n",
      "\n",
      "Enter player name !\n",
      "Enter quit when you are done.\n",
      "Srisha\n",
      "\n",
      "Enter player name !\n",
      "Enter quit when you are done.\n",
      "Sahana Pratibha\n",
      "\n",
      "Enter player name !\n",
      "Enter quit when you are done.\n",
      "quit\n",
      "\n",
      "Your Team players are:\n",
      " ['Arjita Gupta', 'Akanksha Mishra', 'Druthi Shah', 'Neha Patidhar', 'Priti R', 'Srisha', 'Sahana Pratibha']\n"
     ]
    }
   ],
   "source": [
    "# adding players using loop and input\n",
    "\n",
    "text = \"\\nEnter player name !\"\n",
    "text += \"\\nEnter quit when you are done.\\n\"\n",
    "\n",
    "while True:\n",
    "    player = input(text)\n",
    "    if player =='quit':\n",
    "        break\n",
    "    #elif player in players:\n",
    "    else:\n",
    "        players.append(player)\n",
    "print(\"\\nYour Team players are:\\n\",players)"
   ]
  },
  {
   "cell_type": "code",
   "execution_count": 21,
   "metadata": {},
   "outputs": [
    {
     "name": "stdout",
     "output_type": "stream",
     "text": [
      "Hello Player Arjita Gupta\n",
      "Hello Player Akanksha Mishra\n",
      "Hello Player Druthi Shah\n",
      "Hello Player Neha Patidhar\n",
      "Hello Player Priti R\n",
      "Hello Player Srisha\n",
      "Hello Player Sahana Pratibha\n"
     ]
    }
   ],
   "source": [
    "# Passing list to functions:\n",
    "\n",
    "for i in players:\n",
    "    print(\"Hello Player\", i)"
   ]
  },
  {
   "cell_type": "code",
   "execution_count": 7,
   "metadata": {},
   "outputs": [
    {
     "name": "stdout",
     "output_type": "stream",
     "text": [
      "Unprinted models before the process starts: ['phone case', 'airpods cover', 'bottle cover'] Actual Number of elements: 3\n",
      "Printing Model:  bottle cover\n",
      "Printing Model:  airpods cover\n",
      "Unprinted models after the process completes: ['phone case'] Remaining Number of elements: 1\n"
     ]
    }
   ],
   "source": [
    "# Allowing functions to modify list\n",
    "\n",
    "def print_models(unprinted, printed):\n",
    "    while len(unprinted) > 1:\n",
    "        current_model = unprinted.pop();\n",
    "        print(\"Printing Model: \",current_model)\n",
    "        printed.append(current_model)\n",
    "\n",
    "unprinted = ['phone case','airpods cover','bottle cover']\n",
    "printed = []\n",
    "\n",
    "print(\"Unprinted models before the process starts:\" , unprinted, \"Actual Number of elements:\" , len(unprinted))\n",
    "print_models(unprinted,printed)\n",
    "print(\"Unprinted models after the process completes:\" , unprinted, \"Remaining Number of elements:\" , len(unprinted))"
   ]
  },
  {
   "cell_type": "markdown",
   "metadata": {},
   "source": [
    "#### Continue Classes\n",
    "\n",
    "    Inheritance"
   ]
  },
  {
   "cell_type": "code",
   "execution_count": 14,
   "metadata": {},
   "outputs": [],
   "source": [
    "class Car():\n",
    "    def __init__(self, make, model, year):\n",
    "        self.make=make\n",
    "        self.model=model\n",
    "        self.year=year\n",
    "        \n",
    "        self.fuel_cap=15\n",
    "        self.fuel_level=0\n",
    "        \n",
    "    def fill_tank(self):\n",
    "        self.fuel_cap = self.fuel_level\n",
    "        print(\"Tank Full\")\n",
    "    def drive(self):\n",
    "        print(\"Car is moving\")"
   ]
  },
  {
   "cell_type": "code",
   "execution_count": 24,
   "metadata": {},
   "outputs": [],
   "source": [
    "class Battery():\n",
    "\n",
    "    def __init__(self, size):\n",
    "        self.charge_level = 0\n",
    "        self.size = size\n",
    "    \n",
    "    def size_battery(self):\n",
    "        self.size = size\n",
    "        \n",
    "    def get_range(self):\n",
    "        if self.size == 70:\n",
    "            return 240\n",
    "        elif self.size == 85:\n",
    "            return 270"
   ]
  },
  {
   "cell_type": "code",
   "execution_count": 25,
   "metadata": {},
   "outputs": [],
   "source": [
    "# Inheritance\n",
    "\n",
    "class Electronic_car(Car):\n",
    "    \n",
    "    def fill_tank(self):\n",
    "        print(\"This car has no fuel tank!! Its electronic!!\")\n",
    "    \n",
    "    batt_size = int(input('Enter: ')\n",
    "# Using Instance as an attribute\n",
    "    def __init__(self, make, model, year):\n",
    "        super().__init__(make,model,year)\n",
    "        \n",
    "        self.battery = Battery(85)\n",
    "        \n",
    "    def charge(self):\n",
    "        self.battery.charge_level =100\n",
    "        print(\"Battery is fully charged!!\")"
   ]
  },
  {
   "cell_type": "code",
   "execution_count": 26,
   "metadata": {},
   "outputs": [
    {
     "name": "stdout",
     "output_type": "stream",
     "text": [
      "Battery is fully charged!!\n",
      "270\n",
      "Car is moving\n"
     ]
    }
   ],
   "source": [
    "# using the class\n",
    "\n",
    "my_ecar = Electronic_car('tesla','model_x',2016)\n",
    "\n",
    "my_ecar.charge()\n",
    "print(my_ecar.battery.get_range())\n",
    "my_ecar.drive()"
   ]
  },
  {
   "cell_type": "code",
   "execution_count": 29,
   "metadata": {},
   "outputs": [
    {
     "name": "stdout",
     "output_type": "stream",
     "text": [
      "Tank Full\n",
      "Tank Full\n",
      "Tank Full\n",
      "Tank Full\n",
      "Tank Full\n",
      "Tank Full\n",
      "Tank Full\n",
      "Tank Full\n",
      "Tank Full\n",
      "Tank Full\n",
      "Tank Full\n",
      "Tank Full\n",
      "Tank Full\n",
      "Tank Full\n",
      "Tank Full\n",
      "Tank Full\n",
      "Tank Full\n",
      "Tank Full\n",
      "Tank Full\n",
      "Tank Full\n",
      "Tank Full\n",
      "Tank Full\n",
      "Tank Full\n",
      "Tank Full\n",
      "Tank Full\n",
      "Tank Full\n",
      "Tank Full\n",
      "Tank Full\n",
      "Tank Full\n",
      "Tank Full\n",
      "Tank Full\n",
      "Tank Full\n",
      "Tank Full\n",
      "Tank Full\n",
      "Tank Full\n",
      "Tank Full\n",
      "Tank Full\n",
      "Tank Full\n",
      "Tank Full\n",
      "Tank Full\n",
      "Tank Full\n",
      "Tank Full\n",
      "Tank Full\n",
      "Tank Full\n",
      "Tank Full\n",
      "Tank Full\n",
      "Tank Full\n",
      "Tank Full\n",
      "Tank Full\n",
      "Tank Full\n",
      "Tank Full\n",
      "Tank Full\n",
      "Tank Full\n",
      "Tank Full\n",
      "Tank Full\n",
      "Tank Full\n",
      "Tank Full\n",
      "Tank Full\n",
      "Tank Full\n",
      "Tank Full\n",
      "Tank Full\n",
      "Tank Full\n",
      "Tank Full\n",
      "Tank Full\n",
      "Tank Full\n",
      "Tank Full\n",
      "Tank Full\n",
      "Tank Full\n",
      "Tank Full\n",
      "Tank Full\n",
      "Tank Full\n",
      "Tank Full\n",
      "Tank Full\n",
      "Tank Full\n",
      "Tank Full\n",
      "Tank Full\n",
      "Tank Full\n",
      "Tank Full\n",
      "Tank Full\n",
      "Tank Full\n",
      "Tank Full\n",
      "Tank Full\n",
      "Tank Full\n",
      "Tank Full\n",
      "Tank Full\n",
      "Tank Full\n",
      "Tank Full\n",
      "Tank Full\n",
      "Tank Full\n",
      "Tank Full\n",
      "Tank Full\n",
      "Tank Full\n",
      "Tank Full\n",
      "Tank Full\n",
      "Tank Full\n",
      "Tank Full\n",
      "Tank Full\n",
      "Tank Full\n",
      "Tank Full\n",
      "Tank Full\n",
      "Tank Full\n",
      "Tank Full\n",
      "Tank Full\n",
      "Tank Full\n",
      "Tank Full\n",
      "Tank Full\n",
      "Tank Full\n",
      "Tank Full\n",
      "Tank Full\n",
      "Tank Full\n",
      "Tank Full\n",
      "Tank Full\n",
      "Tank Full\n",
      "Tank Full\n",
      "Tank Full\n",
      "Tank Full\n",
      "Tank Full\n",
      "Tank Full\n",
      "Tank Full\n",
      "Tank Full\n",
      "Tank Full\n",
      "Tank Full\n",
      "Tank Full\n",
      "Tank Full\n",
      "Tank Full\n",
      "Tank Full\n",
      "Tank Full\n",
      "Tank Full\n",
      "Tank Full\n",
      "Tank Full\n",
      "Tank Full\n",
      "Tank Full\n",
      "Tank Full\n",
      "Tank Full\n",
      "Tank Full\n",
      "Tank Full\n",
      "Tank Full\n",
      "Tank Full\n",
      "Tank Full\n",
      "Tank Full\n",
      "Tank Full\n",
      "Tank Full\n",
      "Tank Full\n",
      "Tank Full\n",
      "Tank Full\n",
      "Tank Full\n",
      "Tank Full\n",
      "Tank Full\n",
      "Tank Full\n",
      "Tank Full\n",
      "Tank Full\n",
      "Tank Full\n",
      "Tank Full\n",
      "Tank Full\n",
      "Tank Full\n",
      "Tank Full\n",
      "Tank Full\n",
      "Tank Full\n",
      "Tank Full\n",
      "Tank Full\n",
      "Tank Full\n",
      "Tank Full\n",
      "Tank Full\n",
      "Tank Full\n",
      "Tank Full\n",
      "Tank Full\n",
      "Tank Full\n",
      "Tank Full\n",
      "Tank Full\n",
      "Tank Full\n",
      "Tank Full\n",
      "Tank Full\n",
      "Tank Full\n",
      "Tank Full\n",
      "Tank Full\n",
      "Tank Full\n",
      "Tank Full\n",
      "Tank Full\n",
      "Tank Full\n",
      "Tank Full\n",
      "Tank Full\n",
      "Tank Full\n",
      "Tank Full\n",
      "Tank Full\n",
      "Tank Full\n",
      "Tank Full\n",
      "Tank Full\n",
      "Tank Full\n",
      "Tank Full\n",
      "Tank Full\n",
      "Tank Full\n",
      "Tank Full\n",
      "Tank Full\n",
      "Tank Full\n",
      "Tank Full\n",
      "Tank Full\n",
      "Tank Full\n",
      "Tank Full\n",
      "Tank Full\n",
      "Tank Full\n",
      "Tank Full\n",
      "Tank Full\n",
      "Tank Full\n",
      "Tank Full\n",
      "Tank Full\n",
      "Tank Full\n",
      "Tank Full\n",
      "Tank Full\n",
      "Tank Full\n",
      "Tank Full\n",
      "Tank Full\n",
      "Tank Full\n",
      "Tank Full\n",
      "Tank Full\n",
      "Tank Full\n",
      "Tank Full\n",
      "Tank Full\n",
      "Tank Full\n",
      "Tank Full\n",
      "Tank Full\n",
      "Tank Full\n",
      "Tank Full\n",
      "Tank Full\n",
      "Tank Full\n",
      "Tank Full\n",
      "Tank Full\n",
      "Tank Full\n",
      "Tank Full\n",
      "Tank Full\n",
      "Tank Full\n",
      "Tank Full\n",
      "Tank Full\n",
      "Tank Full\n",
      "Tank Full\n",
      "Tank Full\n",
      "Tank Full\n",
      "Tank Full\n",
      "Tank Full\n",
      "Tank Full\n",
      "Tank Full\n",
      "Tank Full\n",
      "Tank Full\n",
      "Tank Full\n",
      "Tank Full\n",
      "Tank Full\n",
      "Tank Full\n",
      "Tank Full\n",
      "Tank Full\n",
      "Tank Full\n",
      "Tank Full\n",
      "Tank Full\n",
      "Tank Full\n",
      "Tank Full\n",
      "Tank Full\n",
      "Tank Full\n",
      "Tank Full\n",
      "Tank Full\n",
      "Tank Full\n",
      "Tank Full\n",
      "Tank Full\n",
      "Tank Full\n",
      "Tank Full\n",
      "Tank Full\n",
      "Tank Full\n",
      "Tank Full\n",
      "Tank Full\n",
      "Tank Full\n",
      "Tank Full\n",
      "Tank Full\n",
      "Tank Full\n",
      "Tank Full\n",
      "Tank Full\n",
      "Tank Full\n",
      "Tank Full\n",
      "Tank Full\n",
      "Tank Full\n",
      "Tank Full\n",
      "Tank Full\n",
      "Tank Full\n",
      "Tank Full\n",
      "Tank Full\n",
      "Tank Full\n",
      "Tank Full\n",
      "Tank Full\n",
      "Tank Full\n",
      "Tank Full\n",
      "Tank Full\n",
      "Tank Full\n",
      "Tank Full\n",
      "Tank Full\n",
      "Tank Full\n",
      "Tank Full\n",
      "Tank Full\n",
      "Tank Full\n",
      "Tank Full\n",
      "Tank Full\n",
      "Tank Full\n",
      "Tank Full\n",
      "Tank Full\n",
      "Tank Full\n",
      "Tank Full\n",
      "Tank Full\n",
      "Tank Full\n",
      "Tank Full\n",
      "Tank Full\n",
      "Tank Full\n",
      "Tank Full\n",
      "Tank Full\n",
      "Tank Full\n",
      "Tank Full\n",
      "Tank Full\n",
      "Tank Full\n",
      "Tank Full\n",
      "Tank Full\n",
      "Tank Full\n",
      "Tank Full\n",
      "Tank Full\n",
      "Tank Full\n",
      "Tank Full\n",
      "Tank Full\n",
      "Tank Full\n",
      "Tank Full\n",
      "Tank Full\n",
      "Tank Full\n",
      "Tank Full\n",
      "Tank Full\n",
      "Tank Full\n",
      "Tank Full\n",
      "Tank Full\n",
      "Tank Full\n",
      "Tank Full\n",
      "Tank Full\n",
      "Tank Full\n",
      "Tank Full\n",
      "Tank Full\n",
      "Tank Full\n",
      "Tank Full\n",
      "Tank Full\n",
      "Tank Full\n",
      "Tank Full\n",
      "Tank Full\n",
      "Tank Full\n",
      "Tank Full\n",
      "Tank Full\n",
      "Tank Full\n",
      "Tank Full\n",
      "Tank Full\n",
      "Tank Full\n",
      "Tank Full\n",
      "Tank Full\n",
      "Tank Full\n",
      "Tank Full\n",
      "Tank Full\n",
      "Tank Full\n",
      "Tank Full\n",
      "Tank Full\n",
      "Tank Full\n",
      "Tank Full\n",
      "Tank Full\n",
      "Tank Full\n",
      "Tank Full\n",
      "Tank Full\n",
      "Tank Full\n",
      "Tank Full\n",
      "Tank Full\n",
      "Tank Full\n",
      "Tank Full\n",
      "Tank Full\n",
      "Tank Full\n",
      "Tank Full\n",
      "Tank Full\n",
      "Tank Full\n",
      "Tank Full\n",
      "Tank Full\n",
      "Tank Full\n",
      "Tank Full\n",
      "Tank Full\n",
      "Tank Full\n",
      "Tank Full\n",
      "Tank Full\n",
      "Tank Full\n",
      "Tank Full\n",
      "Tank Full\n",
      "Tank Full\n",
      "Tank Full\n",
      "Tank Full\n",
      "Tank Full\n",
      "Tank Full\n",
      "Tank Full\n",
      "Tank Full\n",
      "Tank Full\n",
      "Tank Full\n",
      "Tank Full\n",
      "Tank Full\n",
      "Tank Full\n",
      "Tank Full\n",
      "Tank Full\n",
      "Tank Full\n",
      "Tank Full\n",
      "Tank Full\n",
      "Tank Full\n",
      "Tank Full\n",
      "Tank Full\n",
      "Tank Full\n",
      "Tank Full\n",
      "Tank Full\n",
      "Tank Full\n",
      "Tank Full\n",
      "Tank Full\n",
      "Tank Full\n",
      "Tank Full\n",
      "Tank Full\n",
      "Tank Full\n",
      "Tank Full\n",
      "Tank Full\n",
      "Tank Full\n",
      "Tank Full\n",
      "Tank Full\n",
      "Tank Full\n",
      "Tank Full\n",
      "Tank Full\n",
      "Tank Full\n",
      "Tank Full\n",
      "Tank Full\n",
      "Tank Full\n",
      "Tank Full\n",
      "Tank Full\n",
      "Tank Full\n",
      "Tank Full\n",
      "Tank Full\n",
      "Tank Full\n",
      "Tank Full\n",
      "Tank Full\n",
      "Tank Full\n",
      "Tank Full\n",
      "Tank Full\n",
      "Tank Full\n",
      "Tank Full\n",
      "Tank Full\n",
      "Tank Full\n",
      "Tank Full\n",
      "Tank Full\n",
      "Tank Full\n",
      "Tank Full\n",
      "Tank Full\n",
      "Tank Full\n",
      "Tank Full\n",
      "Tank Full\n",
      "Tank Full\n",
      "Tank Full\n",
      "Tank Full\n",
      "Tank Full\n",
      "Tank Full\n",
      "Tank Full\n",
      "Tank Full\n",
      "Tank Full\n",
      "Tank Full\n",
      "Tank Full\n",
      "Tank Full\n",
      "Tank Full\n",
      "Tank Full\n",
      "Tank Full\n",
      "Tank Full\n",
      "Tank Full\n",
      "Tank Full\n",
      "Tank Full\n",
      "Tank Full\n",
      "Tank Full\n",
      "Tank Full\n",
      "Tank Full\n",
      "Tank Full\n",
      "Tank Full\n",
      "Tank Full\n",
      "Tank Full\n",
      "Tank Full\n",
      "Tank Full\n",
      "Tank Full\n",
      "Tank Full\n",
      "Tank Full\n",
      "Tank Full\n",
      "Tank Full\n",
      "Tank Full\n",
      "Tank Full\n",
      "Tank Full\n",
      "Tank Full\n",
      "Tank Full\n",
      "Tank Full\n",
      "Tank Full\n",
      "Tank Full\n",
      "Tank Full\n",
      "Tank Full\n",
      "Tank Full\n",
      "Tank Full\n",
      "Tank Full\n",
      "Tank Full\n",
      "Tank Full\n",
      "Tank Full\n",
      "Tank Full\n",
      "Tank Full\n",
      "Tank Full\n",
      "Battery is fully charged!!\n",
      "Battery is fully charged!!\n",
      "Battery is fully charged!!\n",
      "Battery is fully charged!!\n",
      "Battery is fully charged!!\n",
      "Battery is fully charged!!\n",
      "Battery is fully charged!!\n",
      "Battery is fully charged!!\n",
      "Battery is fully charged!!\n",
      "Battery is fully charged!!\n",
      "Battery is fully charged!!\n",
      "Battery is fully charged!!\n",
      "Battery is fully charged!!\n",
      "Battery is fully charged!!\n",
      "Battery is fully charged!!\n",
      "Battery is fully charged!!\n",
      "Battery is fully charged!!\n",
      "Battery is fully charged!!\n",
      "Battery is fully charged!!\n",
      "Battery is fully charged!!\n",
      "Battery is fully charged!!\n",
      "Battery is fully charged!!\n",
      "Battery is fully charged!!\n",
      "Battery is fully charged!!\n",
      "Battery is fully charged!!\n",
      "Battery is fully charged!!\n",
      "Battery is fully charged!!\n",
      "Battery is fully charged!!\n",
      "Battery is fully charged!!\n",
      "Battery is fully charged!!\n",
      "Battery is fully charged!!\n",
      "Battery is fully charged!!\n",
      "Battery is fully charged!!\n",
      "Battery is fully charged!!\n",
      "Battery is fully charged!!\n",
      "Battery is fully charged!!\n",
      "Battery is fully charged!!\n",
      "Battery is fully charged!!\n",
      "Battery is fully charged!!\n",
      "Battery is fully charged!!\n",
      "Battery is fully charged!!\n",
      "Battery is fully charged!!\n",
      "Battery is fully charged!!\n",
      "Battery is fully charged!!\n",
      "Battery is fully charged!!\n",
      "Battery is fully charged!!\n",
      "Battery is fully charged!!\n",
      "Battery is fully charged!!\n",
      "Battery is fully charged!!\n",
      "Battery is fully charged!!\n",
      "Battery is fully charged!!\n",
      "Battery is fully charged!!\n",
      "Battery is fully charged!!\n",
      "Battery is fully charged!!\n",
      "Battery is fully charged!!\n",
      "Battery is fully charged!!\n",
      "Battery is fully charged!!\n",
      "Battery is fully charged!!\n",
      "Battery is fully charged!!\n",
      "Battery is fully charged!!\n",
      "Battery is fully charged!!\n",
      "Battery is fully charged!!\n",
      "Battery is fully charged!!\n",
      "Battery is fully charged!!\n",
      "Battery is fully charged!!\n",
      "Battery is fully charged!!\n",
      "Battery is fully charged!!\n",
      "Battery is fully charged!!\n",
      "Battery is fully charged!!\n",
      "Battery is fully charged!!\n",
      "Battery is fully charged!!\n",
      "Battery is fully charged!!\n",
      "Battery is fully charged!!\n",
      "Battery is fully charged!!\n",
      "Battery is fully charged!!\n",
      "Battery is fully charged!!\n",
      "Battery is fully charged!!\n",
      "Battery is fully charged!!\n",
      "Battery is fully charged!!\n",
      "Battery is fully charged!!\n",
      "Battery is fully charged!!\n",
      "Battery is fully charged!!\n",
      "Battery is fully charged!!\n",
      "Battery is fully charged!!\n",
      "Battery is fully charged!!\n",
      "Battery is fully charged!!\n",
      "Battery is fully charged!!\n",
      "Battery is fully charged!!\n",
      "Battery is fully charged!!\n",
      "Battery is fully charged!!\n",
      "Battery is fully charged!!\n",
      "Battery is fully charged!!\n",
      "Battery is fully charged!!\n",
      "Battery is fully charged!!\n",
      "Battery is fully charged!!\n",
      "Battery is fully charged!!\n",
      "Battery is fully charged!!\n",
      "Battery is fully charged!!\n",
      "Battery is fully charged!!\n",
      "Battery is fully charged!!\n",
      "Battery is fully charged!!\n",
      "Battery is fully charged!!\n",
      "Battery is fully charged!!\n",
      "Battery is fully charged!!\n",
      "Battery is fully charged!!\n",
      "Battery is fully charged!!\n",
      "Battery is fully charged!!\n",
      "Battery is fully charged!!\n",
      "Battery is fully charged!!\n",
      "Battery is fully charged!!\n",
      "Battery is fully charged!!\n",
      "Battery is fully charged!!\n",
      "Battery is fully charged!!\n",
      "Battery is fully charged!!\n",
      "Battery is fully charged!!\n",
      "Battery is fully charged!!\n",
      "Battery is fully charged!!\n",
      "Battery is fully charged!!\n",
      "Battery is fully charged!!\n",
      "Battery is fully charged!!\n",
      "Battery is fully charged!!\n",
      "Battery is fully charged!!\n",
      "Battery is fully charged!!\n",
      "Battery is fully charged!!\n",
      "Battery is fully charged!!\n",
      "Battery is fully charged!!\n",
      "Battery is fully charged!!\n",
      "Battery is fully charged!!\n",
      "Battery is fully charged!!\n",
      "Battery is fully charged!!\n",
      "Battery is fully charged!!\n",
      "Battery is fully charged!!\n",
      "Battery is fully charged!!\n",
      "Battery is fully charged!!\n",
      "Battery is fully charged!!\n",
      "Battery is fully charged!!\n",
      "Battery is fully charged!!\n",
      "Battery is fully charged!!\n",
      "Battery is fully charged!!\n",
      "Battery is fully charged!!\n",
      "Battery is fully charged!!\n",
      "Battery is fully charged!!\n",
      "Battery is fully charged!!\n",
      "Battery is fully charged!!\n",
      "Battery is fully charged!!\n",
      "Battery is fully charged!!\n",
      "Battery is fully charged!!\n",
      "Battery is fully charged!!\n",
      "Battery is fully charged!!\n",
      "Battery is fully charged!!\n",
      "Battery is fully charged!!\n",
      "Battery is fully charged!!\n",
      "Battery is fully charged!!\n",
      "Battery is fully charged!!\n",
      "Battery is fully charged!!\n",
      "Battery is fully charged!!\n",
      "Battery is fully charged!!\n",
      "Battery is fully charged!!\n",
      "Battery is fully charged!!\n",
      "Battery is fully charged!!\n",
      "Battery is fully charged!!\n",
      "Battery is fully charged!!\n",
      "Battery is fully charged!!\n",
      "Battery is fully charged!!\n",
      "Battery is fully charged!!\n",
      "Battery is fully charged!!\n",
      "Battery is fully charged!!\n",
      "Battery is fully charged!!\n",
      "Battery is fully charged!!\n",
      "Battery is fully charged!!\n",
      "Battery is fully charged!!\n",
      "Battery is fully charged!!\n",
      "Battery is fully charged!!\n",
      "Battery is fully charged!!\n",
      "Battery is fully charged!!\n",
      "Battery is fully charged!!\n",
      "Battery is fully charged!!\n",
      "Battery is fully charged!!\n",
      "Battery is fully charged!!\n",
      "Battery is fully charged!!\n",
      "Battery is fully charged!!\n",
      "Battery is fully charged!!\n",
      "Battery is fully charged!!\n",
      "Battery is fully charged!!\n",
      "Battery is fully charged!!\n",
      "Battery is fully charged!!\n",
      "Battery is fully charged!!\n",
      "Battery is fully charged!!\n",
      "Battery is fully charged!!\n",
      "Battery is fully charged!!\n",
      "Battery is fully charged!!\n",
      "Battery is fully charged!!\n",
      "Battery is fully charged!!\n",
      "Battery is fully charged!!\n",
      "Battery is fully charged!!\n",
      "Battery is fully charged!!\n",
      "Battery is fully charged!!\n",
      "Battery is fully charged!!\n",
      "Battery is fully charged!!\n",
      "Battery is fully charged!!\n",
      "Battery is fully charged!!\n",
      "Battery is fully charged!!\n",
      "Battery is fully charged!!\n",
      "Battery is fully charged!!\n",
      "Battery is fully charged!!\n",
      "Battery is fully charged!!\n",
      "Battery is fully charged!!\n",
      "Battery is fully charged!!\n",
      "Battery is fully charged!!\n",
      "Battery is fully charged!!\n",
      "Battery is fully charged!!\n",
      "Battery is fully charged!!\n",
      "Battery is fully charged!!\n",
      "Battery is fully charged!!\n",
      "Battery is fully charged!!\n",
      "Battery is fully charged!!\n",
      "Battery is fully charged!!\n",
      "Battery is fully charged!!\n",
      "Battery is fully charged!!\n",
      "Battery is fully charged!!\n",
      "Battery is fully charged!!\n",
      "Battery is fully charged!!\n",
      "Battery is fully charged!!\n",
      "Battery is fully charged!!\n",
      "Battery is fully charged!!\n",
      "Battery is fully charged!!\n",
      "Battery is fully charged!!\n",
      "Battery is fully charged!!\n",
      "Battery is fully charged!!\n",
      "Battery is fully charged!!\n",
      "Battery is fully charged!!\n",
      "Battery is fully charged!!\n",
      "Battery is fully charged!!\n",
      "Battery is fully charged!!\n",
      "Battery is fully charged!!\n",
      "Battery is fully charged!!\n",
      "Battery is fully charged!!\n",
      "Battery is fully charged!!\n",
      "Battery is fully charged!!\n",
      "Battery is fully charged!!\n",
      "Battery is fully charged!!\n",
      "Battery is fully charged!!\n",
      "Battery is fully charged!!\n",
      "Battery is fully charged!!\n",
      "Battery is fully charged!!\n",
      "Battery is fully charged!!\n",
      "Battery is fully charged!!\n",
      "Battery is fully charged!!\n",
      "Battery is fully charged!!\n",
      "Battery is fully charged!!\n",
      "Number of Gas cars 500\n",
      "Number of Electric cars 250\n"
     ]
    }
   ],
   "source": [
    "# storing attributes in a list\n",
    "\n",
    "gas_fleet= []\n",
    "electric_fleet = []\n",
    "\n",
    "\n",
    "#making 500 cars and 250 electronic cars\n",
    "# https://hackernoon.com/understanding-the-underscore-of-python-309d1a029edc  read this link to learn about underscores\n",
    "# here for _ in range will ignore the index value\n",
    "for _ in range(500):\n",
    "    car = Car('Mercedes','C_200',2015)\n",
    "    gas_fleet.append(car)\n",
    "\n",
    "for _ in range(250):\n",
    "    ele_car = Electronic_car('Nissan','leaf',2017)\n",
    "    electric_fleet.append(ele_car)\n",
    "    \n",
    "for car in gas_fleet:\n",
    "    car.fill_tank()\n",
    "\n",
    "for ele_car in electric_fleet:\n",
    "    ele_car.charge()\n",
    "    \n",
    "print(\"Number of Gas cars\", len(gas_fleet))\n",
    "print(\"Number of Electric cars\", len(electric_fleet))"
   ]
  },
  {
   "cell_type": "code",
   "execution_count": 1,
   "metadata": {},
   "outputs": [
    {
     "name": "stdout",
     "output_type": "stream",
     "text": [
      "Enter numerator value\n",
      "3\n",
      "Enter denomerator value\n",
      "4\n",
      "Result is: 0.75\n",
      "Do you want to Exit (Y/N?)\n",
      "y\n"
     ]
    }
   ],
   "source": [
    "# try catch except and else block:\n",
    "\n",
    "msg = ''\n",
    "while msg != 'Y':\n",
    "    x = int(input(\"Enter numerator value\\n\"))\n",
    "    y = int(input(\"Enter denomerator value\\n\"))\n",
    "    try:\n",
    "        Result = x/y\n",
    "    except ZeroDivisionError:\n",
    "        print(\"Your denomerator cannot zero, divison results infinity!!\") \n",
    "    else:\n",
    "        print(\"Result is:\", Result)\n",
    "    msg = (input(\"Do you want to Exit (Y/N?)\\n\").upper())"
   ]
  },
  {
   "cell_type": "code",
   "execution_count": 6,
   "metadata": {},
   "outputs": [],
   "source": [
    "filename = 'test2.txt'\n",
    "\n",
    "try:\n",
    "    with open(filename) as file_object:\n",
    "        lines = file_object.readlines()\n",
    "except FileNotFoundError:\n",
    "    pass\n",
    "else:\n",
    "    print(\"Number of lines in a file {0}\".format(filename),\"is :\", len(lines))\n",
    "    \n",
    "#there is no file called text2.txt so this will pass silently "
   ]
  },
  {
   "cell_type": "code",
   "execution_count": 7,
   "metadata": {},
   "outputs": [
    {
     "name": "stdout",
     "output_type": "stream",
     "text": [
      "[Errno 2] No such file or directory: 'test2.txt' <class 'FileNotFoundError'>\n"
     ]
    }
   ],
   "source": [
    "# bare (generic) exception block\n",
    "\n",
    "filename = 'test2.txt'\n",
    "\n",
    "try:\n",
    "    with open(filename) as file_object:\n",
    "        lines = file_object.readlines()\n",
    "except Exception as e:\n",
    "    print(e, type(e))\n",
    "else:\n",
    "    print(\"Number of lines in a file {0}\".format(filename),\"is :\", len(lines))\n",
    "    "
   ]
  },
  {
   "cell_type": "markdown",
   "metadata": {},
   "source": [
    "#### JSON\n",
    "\n",
    "    Working with json files"
   ]
  },
  {
   "cell_type": "code",
   "execution_count": 8,
   "metadata": {},
   "outputs": [],
   "source": [
    "import json\n",
    "\n",
    "num = [2,3,4,6,8]\n",
    "\n",
    "fname = 'num.json'\n",
    "with open(fname,'w') as f_obj:\n",
    "    json.dump(num,f_obj)"
   ]
  },
  {
   "cell_type": "code",
   "execution_count": 9,
   "metadata": {},
   "outputs": [
    {
     "name": "stdout",
     "output_type": "stream",
     "text": [
      "[2, 3, 4, 6, 8]\n"
     ]
    }
   ],
   "source": [
    "#loading previously created json file\n",
    "\n",
    "filename = 'num.json'\n",
    "with open(filename) as f_obj:\n",
    "    numbers = json.load(f_obj)\n",
    "print(numbers)"
   ]
  },
  {
   "cell_type": "code",
   "execution_count": 10,
   "metadata": {},
   "outputs": [
    {
     "name": "stdout",
     "output_type": "stream",
     "text": [
      "Number of lines in a file num.json is : 1\n"
     ]
    }
   ],
   "source": [
    "#checking whether the data exists or not\n",
    "\n",
    "filename = 'num.json'\n",
    "\n",
    "try:\n",
    "    with open(filename) as file_object:\n",
    "        lines = file_object.readlines()\n",
    "except Exception as e:\n",
    "    print(e, type(e))\n",
    "else:\n",
    "    print(\"Number of lines in a file {0}\".format(filename),\"is :\", len(lines))\n",
    "    "
   ]
  },
  {
   "cell_type": "markdown",
   "metadata": {},
   "source": [
    "#### Unit Testing"
   ]
  },
  {
   "cell_type": "code",
   "execution_count": 1,
   "metadata": {},
   "outputs": [
    {
     "name": "stdout",
     "output_type": "stream",
     "text": [
      "Name with no middle value:  Akanksha Mishra\n",
      "Name with a middle value:  Deepak Kumar Gaur\n"
     ]
    }
   ],
   "source": [
    "def get_full_name(first,last,middle=''):\n",
    "    if middle:\n",
    "        fullName= \"{0} {2} {1}\".format(first, middle, last)    #o 2 1 is in the order they passed in the function parameters while definition\n",
    "    else:\n",
    "        fullName= \"{0} {1}\".format(first, last)\n",
    "    return fullName.title()\n",
    "\n",
    "#first = input(\"Enter first name:\")\n",
    "#last = input(\"Enter last name:\")\n",
    "#print(\"\")\n",
    "#full_name(first,last)\n",
    "print(\"Name with no middle value: \",get_full_name('akanksha','mishra'))\n",
    "print(\"Name with a middle value: \",get_full_name('deepak','kumar','gaur'))"
   ]
  },
  {
   "cell_type": "code",
   "execution_count": 4,
   "metadata": {},
   "outputs": [
    {
     "name": "stderr",
     "output_type": "stream",
     "text": [
      ".\n",
      "----------------------------------------------------------------------\n",
      "Ran 1 test in 0.001s\n",
      "\n",
      "OK\n"
     ]
    },
    {
     "data": {
      "text/plain": [
       "<unittest.main.TestProgram at 0x1cb0e2819e8>"
      ]
     },
     "execution_count": 4,
     "metadata": {},
     "output_type": "execute_result"
    }
   ],
   "source": [
    "import unittest\n",
    "#from account import Accountant\n",
    "\n",
    "class TestFullName(unittest.TestCase):\n",
    "    \n",
    "    def test_full_name(self):\n",
    "        full_name= get_full_name('deepak','kumar','gaur')\n",
    "        self.assertEqual(full_name, 'Deepak Kumar Gaur')\n",
    "        \n",
    "        full_name= get_full_name('akanksha','mishra')\n",
    "        self.assertEqual(full_name, 'Akanksha Mishra')\n",
    "        \n",
    "unittest.main(argv=['first-arg-is-ignored'], exit=False)"
   ]
  },
  {
   "cell_type": "markdown",
   "metadata": {},
   "source": [
    "#### Working with Date datatypes"
   ]
  },
  {
   "cell_type": "code",
   "execution_count": 71,
   "metadata": {},
   "outputs": [],
   "source": [
    "from datetime import datetime as dt\n",
    "\n",
    "new_years = dt(2019,1,1)\n",
    "fall_equinox = dt(year=2016,month=9,day=22)"
   ]
  },
  {
   "cell_type": "code",
   "execution_count": 73,
   "metadata": {},
   "outputs": [
    {
     "data": {
      "text/plain": [
       "datetime.datetime(2016, 9, 22, 0, 0)"
      ]
     },
     "execution_count": 73,
     "metadata": {},
     "output_type": "execute_result"
    }
   ],
   "source": [
    "fall_equinox"
   ]
  },
  {
   "cell_type": "code",
   "execution_count": 78,
   "metadata": {},
   "outputs": [
    {
     "data": {
      "image/png": "[encoded data removed]",
      "text/plain": [
       "<Figure size 432x288 with 1 Axes>"
      ]
     },
     "metadata": {
      "needs_background": "light"
     },
     "output_type": "display_data"
    }
   ],
   "source": [
    "from matplotlib import dates as mdates\n",
    "\n",
    "dates = [dt(2016,6,21),dt(2016,6,22),dt(2016,6,23),dt(2016,6,24)]\n",
    "temp = [81,43,67,98]\n",
    "\n",
    "plt.plot(dates,temp,c='r')\n",
    "plt.ylabel(\"Temp(F)\")\n",
    "fig.autofmt_xdate()"
   ]
  },
  {
   "cell_type": "code",
   "execution_count": null,
   "metadata": {},
   "outputs": [],
   "source": []
  },
  {
   "cell_type": "code",
   "execution_count": null,
   "metadata": {},
   "outputs": [],
   "source": []
  },
  {
   "cell_type": "code",
   "execution_count": null,
   "metadata": {},
   "outputs": [],
   "source": []
  },
  {
   "cell_type": "markdown",
   "metadata": {},
   "source": [
    "### Visualization\n",
    "    Matplotlib\n",
    "    Pygal"
   ]
  },
  {
   "cell_type": "markdown",
   "metadata": {},
   "source": [
    "#### MatplotLib"
   ]
  },
  {
   "cell_type": "code",
   "execution_count": 7,
   "metadata": {},
   "outputs": [
    {
     "data": {
      "text/plain": [
       "[0, 1, 4, 9, 16, 25]"
      ]
     },
     "execution_count": 7,
     "metadata": {},
     "output_type": "execute_result"
    }
   ],
   "source": [
    "import matplotlib.pyplot as plt\n",
    "\n",
    "x_values= [0,1,2,3,4,5]\n",
    "sq = [x**2 for x in x_values]\n",
    "sq"
   ]
  },
  {
   "cell_type": "code",
   "execution_count": 8,
   "metadata": {},
   "outputs": [
    {
     "data": {
      "image/png": "[encoded data removed]",
      "text/plain": [
       "<Figure size 432x288 with 1 Axes>"
      ]
     },
     "metadata": {
      "needs_background": "light"
     },
     "output_type": "display_data"
    }
   ],
   "source": [
    "plt.plot(x_values,sq)\n",
    "plt.show()"
   ]
  },
  {
   "cell_type": "code",
   "execution_count": 53,
   "metadata": {},
   "outputs": [
    {
     "name": "stdout",
     "output_type": "stream",
     "text": [
      "[0, 1, 2, 3, 4, 5, 6, 7, 8, 9]\n"
     ]
    },
    {
     "data": {
      "image/png": "[encoded data removed]",
      "text/plain": [
       "<Figure size 432x288 with 1 Axes>"
      ]
     },
     "metadata": {
      "needs_background": "light"
     },
     "output_type": "display_data"
    }
   ],
   "source": [
    "# Scatterplot\n",
    "\n",
    "x_values= list(range(10))\n",
    "print(x_values)\n",
    "y_values = [3,5,6,7,4,2,3,4,5,6]\n",
    "plt.scatter(x_values,y_values,c=y_values,cmap=plt.cm.Blues,edgecolor='blue')\n",
    "plt.title(\"Random Chart\", fontsize=20)\n",
    "plt.legend(x_values,y_values)\n",
    "plt.xlabel(\"Int from 0 to 9\", fontsize=10)\n",
    "plt.ylabel(\"Random integers\",fontsize=10)\n",
    "plt.tick_params(axis='both')\n",
    "#plt.axes().get_xaxis().set_visible(False)     #this line is for removing x axis details\n",
    "#plt.figure(dpi=128,figsize=(10,6))\n",
    "plt.savefig('random.png',bbox_inches='tight')\n",
    "plt.show()\n"
   ]
  },
  {
   "cell_type": "code",
   "execution_count": 63,
   "metadata": {},
   "outputs": [
    {
     "data": {
      "image/png": "[encoded data removed]",
      "text/plain": [
       "<Figure size 432x288 with 1 Axes>"
      ]
     },
     "metadata": {
      "needs_background": "light"
     },
     "output_type": "display_data"
    }
   ],
   "source": [
    "x_values= [0,1,2,3,4,5]\n",
    "sq = [x**2 for x in x_values]\n",
    "cube = [x**3 for x in x_values]\n",
    "\n",
    "plt.scatter(x_values,sq,c='red',cmap=plt.cm.Blues,edgecolor='red')\n",
    "plt.scatter(x_values,cube,c='blue',cmap=plt.cm.coolwarm,edgecolor='blue')\n",
    "\n",
    "plt.fill_between(x_values,sq,cube,facecolor='pink')\n",
    "\n",
    "plt.show()"
   ]
  },
  {
   "cell_type": "code",
   "execution_count": 69,
   "metadata": {},
   "outputs": [
    {
     "data": {
      "text/plain": [
       "<function matplotlib.pyplot.show(*args, **kw)>"
      ]
     },
     "execution_count": 69,
     "metadata": {},
     "output_type": "execute_result"
    },
    {
     "data": {
      "image/png": "[encoded data removed]",
      "text/plain": [
       "<Figure size 432x288 with 2 Axes>"
      ]
     },
     "metadata": {
      "needs_background": "light"
     },
     "output_type": "display_data"
    }
   ],
   "source": [
    "# Multiple plots in one figure\n",
    "\n",
    "x_values= [0,1,2,3,4,5]\n",
    "sq = [x**2 for x in x_values]\n",
    "cube = [x**3 for x in x_values]\n",
    "\n",
    "#fig, axarr = plt.subplots(2,1,sharex=True)\n",
    "fig, axarr = plt.subplots(1,2,sharey=True)\n",
    "axarr[0].scatter(x_values,sq)\n",
    "axarr[0].set_title(\"Values against Squares\")\n",
    "\n",
    "axarr[1].scatter(x_values,cube,c='red')\n",
    "axarr[1].set_title(\"Values against Cubes\")\n",
    "\n",
    "plt.show"
   ]
  },
  {
   "cell_type": "markdown",
   "metadata": {},
   "source": [
    "#### Pygal"
   ]
  },
  {
   "cell_type": "code",
   "execution_count": 79,
   "metadata": {},
   "outputs": [
    {
     "ename": "ModuleNotFoundError",
     "evalue": "No module named 'pygal'",
     "output_type": "error",
     "traceback": [
      "\u001b[1;31m---------------------------------------------------------------------------\u001b[0m",
      "\u001b[1;31mModuleNotFoundError\u001b[0m                       Traceback (most recent call last)",
      "\u001b[1;32m<ipython-input-79-40bd1d7b5210>\u001b[0m in \u001b[0;36m<module>\u001b[1;34m\u001b[0m\n\u001b[1;32m----> 1\u001b[1;33m \u001b[1;32mimport\u001b[0m \u001b[0mpygal\u001b[0m\u001b[1;33m\u001b[0m\u001b[1;33m\u001b[0m\u001b[0m\n\u001b[0m\u001b[0;32m      2\u001b[0m \u001b[1;33m\u001b[0m\u001b[0m\n\u001b[0;32m      3\u001b[0m \u001b[0mx_values\u001b[0m\u001b[1;33m=\u001b[0m \u001b[1;33m[\u001b[0m\u001b[1;36m0\u001b[0m\u001b[1;33m,\u001b[0m\u001b[1;36m1\u001b[0m\u001b[1;33m,\u001b[0m\u001b[1;36m2\u001b[0m\u001b[1;33m,\u001b[0m\u001b[1;36m3\u001b[0m\u001b[1;33m,\u001b[0m\u001b[1;36m4\u001b[0m\u001b[1;33m,\u001b[0m\u001b[1;36m5\u001b[0m\u001b[1;33m]\u001b[0m\u001b[1;33m\u001b[0m\u001b[1;33m\u001b[0m\u001b[0m\n\u001b[0;32m      4\u001b[0m \u001b[0msq\u001b[0m \u001b[1;33m=\u001b[0m \u001b[1;33m[\u001b[0m\u001b[0mx\u001b[0m\u001b[1;33m**\u001b[0m\u001b[1;36m2\u001b[0m \u001b[1;32mfor\u001b[0m \u001b[0mx\u001b[0m \u001b[1;32min\u001b[0m \u001b[0mx_values\u001b[0m\u001b[1;33m]\u001b[0m\u001b[1;33m\u001b[0m\u001b[1;33m\u001b[0m\u001b[0m\n\u001b[0;32m      5\u001b[0m \u001b[1;33m\u001b[0m\u001b[0m\n",
      "\u001b[1;31mModuleNotFoundError\u001b[0m: No module named 'pygal'"
     ]
    }
   ],
   "source": [
    "Performed on google colaboratory\n"
   ]
  },
  {
   "cell_type": "code",
   "execution_count": null,
   "metadata": {},
   "outputs": [],
   "source": []
  }
 ],
 "metadata": {
  "kernelspec": {
   "display_name": "Python 3",
   "language": "python",
   "name": "python3"
  },
  "language_info": {
   "codemirror_mode": {
    "name": "ipython",
    "version": 3
   },
   "file_extension": ".py",
   "mimetype": "text/x-python",
   "name": "python",
   "nbconvert_exporter": "python",
   "pygments_lexer": "ipython3",
   "version": "3.7.3"
  }
 },
 "nbformat": 4,
 "nbformat_minor": 2
}
